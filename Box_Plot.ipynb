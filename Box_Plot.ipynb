{
 "cells": [
  {
   "cell_type": "code",
   "execution_count": 1,
   "id": "fe69dbea",
   "metadata": {},
   "outputs": [],
   "source": [
    "import seaborn as sns"
   ]
  },
  {
   "cell_type": "code",
   "execution_count": 3,
   "id": "aabb78a4",
   "metadata": {},
   "outputs": [],
   "source": [
    "sns.set(style=\"whitegrid\")"
   ]
  },
  {
   "cell_type": "code",
   "execution_count": 4,
   "id": "a9e947e5",
   "metadata": {},
   "outputs": [],
   "source": [
    "boat= sns.load_dataset(\"titanic\")"
   ]
  },
  {
   "cell_type": "code",
   "execution_count": 5,
   "id": "eab20157",
   "metadata": {},
   "outputs": [
    {
     "data": {
      "text/html": [
       "<div>\n",
       "<style scoped>\n",
       "    .dataframe tbody tr th:only-of-type {\n",
       "        vertical-align: middle;\n",
       "    }\n",
       "\n",
       "    .dataframe tbody tr th {\n",
       "        vertical-align: top;\n",
       "    }\n",
       "\n",
       "    .dataframe thead th {\n",
       "        text-align: right;\n",
       "    }\n",
       "</style>\n",
       "<table border=\"1\" class=\"dataframe\">\n",
       "  <thead>\n",
       "    <tr style=\"text-align: right;\">\n",
       "      <th></th>\n",
       "      <th>survived</th>\n",
       "      <th>pclass</th>\n",
       "      <th>sex</th>\n",
       "      <th>age</th>\n",
       "      <th>sibsp</th>\n",
       "      <th>parch</th>\n",
       "      <th>fare</th>\n",
       "      <th>embarked</th>\n",
       "      <th>class</th>\n",
       "      <th>who</th>\n",
       "      <th>adult_male</th>\n",
       "      <th>deck</th>\n",
       "      <th>embark_town</th>\n",
       "      <th>alive</th>\n",
       "      <th>alone</th>\n",
       "    </tr>\n",
       "  </thead>\n",
       "  <tbody>\n",
       "    <tr>\n",
       "      <th>0</th>\n",
       "      <td>0</td>\n",
       "      <td>3</td>\n",
       "      <td>male</td>\n",
       "      <td>22.0</td>\n",
       "      <td>1</td>\n",
       "      <td>0</td>\n",
       "      <td>7.2500</td>\n",
       "      <td>S</td>\n",
       "      <td>Third</td>\n",
       "      <td>man</td>\n",
       "      <td>True</td>\n",
       "      <td>NaN</td>\n",
       "      <td>Southampton</td>\n",
       "      <td>no</td>\n",
       "      <td>False</td>\n",
       "    </tr>\n",
       "    <tr>\n",
       "      <th>1</th>\n",
       "      <td>1</td>\n",
       "      <td>1</td>\n",
       "      <td>female</td>\n",
       "      <td>38.0</td>\n",
       "      <td>1</td>\n",
       "      <td>0</td>\n",
       "      <td>71.2833</td>\n",
       "      <td>C</td>\n",
       "      <td>First</td>\n",
       "      <td>woman</td>\n",
       "      <td>False</td>\n",
       "      <td>C</td>\n",
       "      <td>Cherbourg</td>\n",
       "      <td>yes</td>\n",
       "      <td>False</td>\n",
       "    </tr>\n",
       "    <tr>\n",
       "      <th>2</th>\n",
       "      <td>1</td>\n",
       "      <td>3</td>\n",
       "      <td>female</td>\n",
       "      <td>26.0</td>\n",
       "      <td>0</td>\n",
       "      <td>0</td>\n",
       "      <td>7.9250</td>\n",
       "      <td>S</td>\n",
       "      <td>Third</td>\n",
       "      <td>woman</td>\n",
       "      <td>False</td>\n",
       "      <td>NaN</td>\n",
       "      <td>Southampton</td>\n",
       "      <td>yes</td>\n",
       "      <td>True</td>\n",
       "    </tr>\n",
       "    <tr>\n",
       "      <th>3</th>\n",
       "      <td>1</td>\n",
       "      <td>1</td>\n",
       "      <td>female</td>\n",
       "      <td>35.0</td>\n",
       "      <td>1</td>\n",
       "      <td>0</td>\n",
       "      <td>53.1000</td>\n",
       "      <td>S</td>\n",
       "      <td>First</td>\n",
       "      <td>woman</td>\n",
       "      <td>False</td>\n",
       "      <td>C</td>\n",
       "      <td>Southampton</td>\n",
       "      <td>yes</td>\n",
       "      <td>False</td>\n",
       "    </tr>\n",
       "    <tr>\n",
       "      <th>4</th>\n",
       "      <td>0</td>\n",
       "      <td>3</td>\n",
       "      <td>male</td>\n",
       "      <td>35.0</td>\n",
       "      <td>0</td>\n",
       "      <td>0</td>\n",
       "      <td>8.0500</td>\n",
       "      <td>S</td>\n",
       "      <td>Third</td>\n",
       "      <td>man</td>\n",
       "      <td>True</td>\n",
       "      <td>NaN</td>\n",
       "      <td>Southampton</td>\n",
       "      <td>no</td>\n",
       "      <td>True</td>\n",
       "    </tr>\n",
       "    <tr>\n",
       "      <th>...</th>\n",
       "      <td>...</td>\n",
       "      <td>...</td>\n",
       "      <td>...</td>\n",
       "      <td>...</td>\n",
       "      <td>...</td>\n",
       "      <td>...</td>\n",
       "      <td>...</td>\n",
       "      <td>...</td>\n",
       "      <td>...</td>\n",
       "      <td>...</td>\n",
       "      <td>...</td>\n",
       "      <td>...</td>\n",
       "      <td>...</td>\n",
       "      <td>...</td>\n",
       "      <td>...</td>\n",
       "    </tr>\n",
       "    <tr>\n",
       "      <th>886</th>\n",
       "      <td>0</td>\n",
       "      <td>2</td>\n",
       "      <td>male</td>\n",
       "      <td>27.0</td>\n",
       "      <td>0</td>\n",
       "      <td>0</td>\n",
       "      <td>13.0000</td>\n",
       "      <td>S</td>\n",
       "      <td>Second</td>\n",
       "      <td>man</td>\n",
       "      <td>True</td>\n",
       "      <td>NaN</td>\n",
       "      <td>Southampton</td>\n",
       "      <td>no</td>\n",
       "      <td>True</td>\n",
       "    </tr>\n",
       "    <tr>\n",
       "      <th>887</th>\n",
       "      <td>1</td>\n",
       "      <td>1</td>\n",
       "      <td>female</td>\n",
       "      <td>19.0</td>\n",
       "      <td>0</td>\n",
       "      <td>0</td>\n",
       "      <td>30.0000</td>\n",
       "      <td>S</td>\n",
       "      <td>First</td>\n",
       "      <td>woman</td>\n",
       "      <td>False</td>\n",
       "      <td>B</td>\n",
       "      <td>Southampton</td>\n",
       "      <td>yes</td>\n",
       "      <td>True</td>\n",
       "    </tr>\n",
       "    <tr>\n",
       "      <th>888</th>\n",
       "      <td>0</td>\n",
       "      <td>3</td>\n",
       "      <td>female</td>\n",
       "      <td>NaN</td>\n",
       "      <td>1</td>\n",
       "      <td>2</td>\n",
       "      <td>23.4500</td>\n",
       "      <td>S</td>\n",
       "      <td>Third</td>\n",
       "      <td>woman</td>\n",
       "      <td>False</td>\n",
       "      <td>NaN</td>\n",
       "      <td>Southampton</td>\n",
       "      <td>no</td>\n",
       "      <td>False</td>\n",
       "    </tr>\n",
       "    <tr>\n",
       "      <th>889</th>\n",
       "      <td>1</td>\n",
       "      <td>1</td>\n",
       "      <td>male</td>\n",
       "      <td>26.0</td>\n",
       "      <td>0</td>\n",
       "      <td>0</td>\n",
       "      <td>30.0000</td>\n",
       "      <td>C</td>\n",
       "      <td>First</td>\n",
       "      <td>man</td>\n",
       "      <td>True</td>\n",
       "      <td>C</td>\n",
       "      <td>Cherbourg</td>\n",
       "      <td>yes</td>\n",
       "      <td>True</td>\n",
       "    </tr>\n",
       "    <tr>\n",
       "      <th>890</th>\n",
       "      <td>0</td>\n",
       "      <td>3</td>\n",
       "      <td>male</td>\n",
       "      <td>32.0</td>\n",
       "      <td>0</td>\n",
       "      <td>0</td>\n",
       "      <td>7.7500</td>\n",
       "      <td>Q</td>\n",
       "      <td>Third</td>\n",
       "      <td>man</td>\n",
       "      <td>True</td>\n",
       "      <td>NaN</td>\n",
       "      <td>Queenstown</td>\n",
       "      <td>no</td>\n",
       "      <td>True</td>\n",
       "    </tr>\n",
       "  </tbody>\n",
       "</table>\n",
       "<p>891 rows × 15 columns</p>\n",
       "</div>"
      ],
      "text/plain": [
       "     survived  pclass     sex   age  sibsp  parch     fare embarked   class  \\\n",
       "0           0       3    male  22.0      1      0   7.2500        S   Third   \n",
       "1           1       1  female  38.0      1      0  71.2833        C   First   \n",
       "2           1       3  female  26.0      0      0   7.9250        S   Third   \n",
       "3           1       1  female  35.0      1      0  53.1000        S   First   \n",
       "4           0       3    male  35.0      0      0   8.0500        S   Third   \n",
       "..        ...     ...     ...   ...    ...    ...      ...      ...     ...   \n",
       "886         0       2    male  27.0      0      0  13.0000        S  Second   \n",
       "887         1       1  female  19.0      0      0  30.0000        S   First   \n",
       "888         0       3  female   NaN      1      2  23.4500        S   Third   \n",
       "889         1       1    male  26.0      0      0  30.0000        C   First   \n",
       "890         0       3    male  32.0      0      0   7.7500        Q   Third   \n",
       "\n",
       "       who  adult_male deck  embark_town alive  alone  \n",
       "0      man        True  NaN  Southampton    no  False  \n",
       "1    woman       False    C    Cherbourg   yes  False  \n",
       "2    woman       False  NaN  Southampton   yes   True  \n",
       "3    woman       False    C  Southampton   yes  False  \n",
       "4      man        True  NaN  Southampton    no   True  \n",
       "..     ...         ...  ...          ...   ...    ...  \n",
       "886    man        True  NaN  Southampton    no   True  \n",
       "887  woman       False    B  Southampton   yes   True  \n",
       "888  woman       False  NaN  Southampton    no  False  \n",
       "889    man        True    C    Cherbourg   yes   True  \n",
       "890    man        True  NaN   Queenstown    no   True  \n",
       "\n",
       "[891 rows x 15 columns]"
      ]
     },
     "execution_count": 5,
     "metadata": {},
     "output_type": "execute_result"
    }
   ],
   "source": [
    "boat"
   ]
  },
  {
   "cell_type": "code",
   "execution_count": 7,
   "id": "f762262c",
   "metadata": {},
   "outputs": [
    {
     "data": {
      "text/plain": [
       "<AxesSubplot:xlabel='class', ylabel='fare'>"
      ]
     },
     "execution_count": 7,
     "metadata": {},
     "output_type": "execute_result"
    },
    {
     "data": {
      "image/png": "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\n",
      "text/plain": [
       "<Figure size 432x288 with 1 Axes>"
      ]
     },
     "metadata": {},
     "output_type": "display_data"
    }
   ],
   "source": [
    "sns.boxplot(x=\"class\",\n",
    "            y=\"fare\",\n",
    "            data=boat)"
   ]
  },
  {
   "cell_type": "code",
   "execution_count": 9,
   "id": "02ee89dd",
   "metadata": {},
   "outputs": [
    {
     "data": {
      "text/plain": [
       "<AxesSubplot:xlabel='day', ylabel='tip'>"
      ]
     },
     "execution_count": 9,
     "metadata": {},
     "output_type": "execute_result"
    },
    {
     "data": {
      "image/png": "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\n",
      "text/plain": [
       "<Figure size 432x288 with 1 Axes>"
      ]
     },
     "metadata": {},
     "output_type": "display_data"
    }
   ],
   "source": [
    "import seaborn as sns\n",
    "sns.set(style=\"whitegrid\")\n",
    "tip=sns.load_dataset(\"tips\")\n",
    "tip\n",
    "sns.boxplot(x=\"day\",y=\"tip\",data=tip)\n"
   ]
  },
  {
   "cell_type": "code",
   "execution_count": 10,
   "id": "4b08a21c",
   "metadata": {},
   "outputs": [
    {
     "data": {
      "text/html": [
       "<div>\n",
       "<style scoped>\n",
       "    .dataframe tbody tr th:only-of-type {\n",
       "        vertical-align: middle;\n",
       "    }\n",
       "\n",
       "    .dataframe tbody tr th {\n",
       "        vertical-align: top;\n",
       "    }\n",
       "\n",
       "    .dataframe thead th {\n",
       "        text-align: right;\n",
       "    }\n",
       "</style>\n",
       "<table border=\"1\" class=\"dataframe\">\n",
       "  <thead>\n",
       "    <tr style=\"text-align: right;\">\n",
       "      <th></th>\n",
       "      <th>total_bill</th>\n",
       "      <th>tip</th>\n",
       "      <th>sex</th>\n",
       "      <th>smoker</th>\n",
       "      <th>day</th>\n",
       "      <th>time</th>\n",
       "      <th>size</th>\n",
       "    </tr>\n",
       "  </thead>\n",
       "  <tbody>\n",
       "    <tr>\n",
       "      <th>0</th>\n",
       "      <td>16.99</td>\n",
       "      <td>1.01</td>\n",
       "      <td>Female</td>\n",
       "      <td>No</td>\n",
       "      <td>Sun</td>\n",
       "      <td>Dinner</td>\n",
       "      <td>2</td>\n",
       "    </tr>\n",
       "    <tr>\n",
       "      <th>1</th>\n",
       "      <td>10.34</td>\n",
       "      <td>1.66</td>\n",
       "      <td>Male</td>\n",
       "      <td>No</td>\n",
       "      <td>Sun</td>\n",
       "      <td>Dinner</td>\n",
       "      <td>3</td>\n",
       "    </tr>\n",
       "    <tr>\n",
       "      <th>2</th>\n",
       "      <td>21.01</td>\n",
       "      <td>3.50</td>\n",
       "      <td>Male</td>\n",
       "      <td>No</td>\n",
       "      <td>Sun</td>\n",
       "      <td>Dinner</td>\n",
       "      <td>3</td>\n",
       "    </tr>\n",
       "    <tr>\n",
       "      <th>3</th>\n",
       "      <td>23.68</td>\n",
       "      <td>3.31</td>\n",
       "      <td>Male</td>\n",
       "      <td>No</td>\n",
       "      <td>Sun</td>\n",
       "      <td>Dinner</td>\n",
       "      <td>2</td>\n",
       "    </tr>\n",
       "    <tr>\n",
       "      <th>4</th>\n",
       "      <td>24.59</td>\n",
       "      <td>3.61</td>\n",
       "      <td>Female</td>\n",
       "      <td>No</td>\n",
       "      <td>Sun</td>\n",
       "      <td>Dinner</td>\n",
       "      <td>4</td>\n",
       "    </tr>\n",
       "    <tr>\n",
       "      <th>...</th>\n",
       "      <td>...</td>\n",
       "      <td>...</td>\n",
       "      <td>...</td>\n",
       "      <td>...</td>\n",
       "      <td>...</td>\n",
       "      <td>...</td>\n",
       "      <td>...</td>\n",
       "    </tr>\n",
       "    <tr>\n",
       "      <th>239</th>\n",
       "      <td>29.03</td>\n",
       "      <td>5.92</td>\n",
       "      <td>Male</td>\n",
       "      <td>No</td>\n",
       "      <td>Sat</td>\n",
       "      <td>Dinner</td>\n",
       "      <td>3</td>\n",
       "    </tr>\n",
       "    <tr>\n",
       "      <th>240</th>\n",
       "      <td>27.18</td>\n",
       "      <td>2.00</td>\n",
       "      <td>Female</td>\n",
       "      <td>Yes</td>\n",
       "      <td>Sat</td>\n",
       "      <td>Dinner</td>\n",
       "      <td>2</td>\n",
       "    </tr>\n",
       "    <tr>\n",
       "      <th>241</th>\n",
       "      <td>22.67</td>\n",
       "      <td>2.00</td>\n",
       "      <td>Male</td>\n",
       "      <td>Yes</td>\n",
       "      <td>Sat</td>\n",
       "      <td>Dinner</td>\n",
       "      <td>2</td>\n",
       "    </tr>\n",
       "    <tr>\n",
       "      <th>242</th>\n",
       "      <td>17.82</td>\n",
       "      <td>1.75</td>\n",
       "      <td>Male</td>\n",
       "      <td>No</td>\n",
       "      <td>Sat</td>\n",
       "      <td>Dinner</td>\n",
       "      <td>2</td>\n",
       "    </tr>\n",
       "    <tr>\n",
       "      <th>243</th>\n",
       "      <td>18.78</td>\n",
       "      <td>3.00</td>\n",
       "      <td>Female</td>\n",
       "      <td>No</td>\n",
       "      <td>Thur</td>\n",
       "      <td>Dinner</td>\n",
       "      <td>2</td>\n",
       "    </tr>\n",
       "  </tbody>\n",
       "</table>\n",
       "<p>244 rows × 7 columns</p>\n",
       "</div>"
      ],
      "text/plain": [
       "     total_bill   tip     sex smoker   day    time  size\n",
       "0         16.99  1.01  Female     No   Sun  Dinner     2\n",
       "1         10.34  1.66    Male     No   Sun  Dinner     3\n",
       "2         21.01  3.50    Male     No   Sun  Dinner     3\n",
       "3         23.68  3.31    Male     No   Sun  Dinner     2\n",
       "4         24.59  3.61  Female     No   Sun  Dinner     4\n",
       "..          ...   ...     ...    ...   ...     ...   ...\n",
       "239       29.03  5.92    Male     No   Sat  Dinner     3\n",
       "240       27.18  2.00  Female    Yes   Sat  Dinner     2\n",
       "241       22.67  2.00    Male    Yes   Sat  Dinner     2\n",
       "242       17.82  1.75    Male     No   Sat  Dinner     2\n",
       "243       18.78  3.00  Female     No  Thur  Dinner     2\n",
       "\n",
       "[244 rows x 7 columns]"
      ]
     },
     "execution_count": 10,
     "metadata": {},
     "output_type": "execute_result"
    }
   ],
   "source": [
    "import pandas as pd\n",
    "import numpy as np\n",
    "import seaborn as sns\n",
    "tip=sns.load_dataset(\"tips\")\n",
    "tip\n"
   ]
  },
  {
   "cell_type": "code",
   "execution_count": 11,
   "id": "41a9b16f",
   "metadata": {},
   "outputs": [
    {
     "data": {
      "text/html": [
       "<div>\n",
       "<style scoped>\n",
       "    .dataframe tbody tr th:only-of-type {\n",
       "        vertical-align: middle;\n",
       "    }\n",
       "\n",
       "    .dataframe tbody tr th {\n",
       "        vertical-align: top;\n",
       "    }\n",
       "\n",
       "    .dataframe thead th {\n",
       "        text-align: right;\n",
       "    }\n",
       "</style>\n",
       "<table border=\"1\" class=\"dataframe\">\n",
       "  <thead>\n",
       "    <tr style=\"text-align: right;\">\n",
       "      <th></th>\n",
       "      <th>total_bill</th>\n",
       "      <th>tip</th>\n",
       "      <th>size</th>\n",
       "    </tr>\n",
       "  </thead>\n",
       "  <tbody>\n",
       "    <tr>\n",
       "      <th>count</th>\n",
       "      <td>244.000000</td>\n",
       "      <td>244.000000</td>\n",
       "      <td>244.000000</td>\n",
       "    </tr>\n",
       "    <tr>\n",
       "      <th>mean</th>\n",
       "      <td>19.785943</td>\n",
       "      <td>2.998279</td>\n",
       "      <td>2.569672</td>\n",
       "    </tr>\n",
       "    <tr>\n",
       "      <th>std</th>\n",
       "      <td>8.902412</td>\n",
       "      <td>1.383638</td>\n",
       "      <td>0.951100</td>\n",
       "    </tr>\n",
       "    <tr>\n",
       "      <th>min</th>\n",
       "      <td>3.070000</td>\n",
       "      <td>1.000000</td>\n",
       "      <td>1.000000</td>\n",
       "    </tr>\n",
       "    <tr>\n",
       "      <th>25%</th>\n",
       "      <td>13.347500</td>\n",
       "      <td>2.000000</td>\n",
       "      <td>2.000000</td>\n",
       "    </tr>\n",
       "    <tr>\n",
       "      <th>50%</th>\n",
       "      <td>17.795000</td>\n",
       "      <td>2.900000</td>\n",
       "      <td>2.000000</td>\n",
       "    </tr>\n",
       "    <tr>\n",
       "      <th>75%</th>\n",
       "      <td>24.127500</td>\n",
       "      <td>3.562500</td>\n",
       "      <td>3.000000</td>\n",
       "    </tr>\n",
       "    <tr>\n",
       "      <th>max</th>\n",
       "      <td>50.810000</td>\n",
       "      <td>10.000000</td>\n",
       "      <td>6.000000</td>\n",
       "    </tr>\n",
       "  </tbody>\n",
       "</table>\n",
       "</div>"
      ],
      "text/plain": [
       "       total_bill         tip        size\n",
       "count  244.000000  244.000000  244.000000\n",
       "mean    19.785943    2.998279    2.569672\n",
       "std      8.902412    1.383638    0.951100\n",
       "min      3.070000    1.000000    1.000000\n",
       "25%     13.347500    2.000000    2.000000\n",
       "50%     17.795000    2.900000    2.000000\n",
       "75%     24.127500    3.562500    3.000000\n",
       "max     50.810000   10.000000    6.000000"
      ]
     },
     "execution_count": 11,
     "metadata": {},
     "output_type": "execute_result"
    }
   ],
   "source": [
    "tip.describe()"
   ]
  },
  {
   "cell_type": "code",
   "execution_count": 4,
   "id": "30050124",
   "metadata": {},
   "outputs": [
    {
     "data": {
      "text/plain": [
       "<AxesSubplot:xlabel='total_bill'>"
      ]
     },
     "execution_count": 4,
     "metadata": {},
     "output_type": "execute_result"
    },
    {
     "data": {
      "image/png": "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\n",
      "text/plain": [
       "<Figure size 432x288 with 1 Axes>"
      ]
     },
     "metadata": {},
     "output_type": "display_data"
    }
   ],
   "source": [
    "import seaborn as sns\n",
    "sns.set(style=\"whitegrid\")\n",
    "tip=sns.load_dataset(\"tips\")\n",
    "sns.boxplot(x=tip[\"total_bill\"])"
   ]
  },
  {
   "cell_type": "code",
   "execution_count": 5,
   "id": "971bcdca",
   "metadata": {},
   "outputs": [
    {
     "data": {
      "text/plain": [
       "<AxesSubplot:ylabel='total_bill'>"
      ]
     },
     "execution_count": 5,
     "metadata": {},
     "output_type": "execute_result"
    },
    {
     "data": {
      "image/png": "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\n",
      "text/plain": [
       "<Figure size 432x288 with 1 Axes>"
      ]
     },
     "metadata": {},
     "output_type": "display_data"
    }
   ],
   "source": [
    "import seaborn as sns\n",
    "sns.set(style=\"whitegrid\")\n",
    "tip=sns.load_dataset(\"tips\")\n",
    "sns.boxplot(y=tip[\"total_bill\"])"
   ]
  },
  {
   "cell_type": "code",
   "execution_count": 6,
   "id": "96a66cea",
   "metadata": {},
   "outputs": [
    {
     "data": {
      "text/plain": [
       "<AxesSubplot:xlabel='tip', ylabel='day'>"
      ]
     },
     "execution_count": 6,
     "metadata": {},
     "output_type": "execute_result"
    },
    {
     "data": {
      "image/png": "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\n",
      "text/plain": [
       "<Figure size 432x288 with 1 Axes>"
      ]
     },
     "metadata": {},
     "output_type": "display_data"
    }
   ],
   "source": [
    "import seaborn as sns\n",
    "sns.set(style=\"whitegrid\")\n",
    "amin=sns.load_dataset(\"tips\")\n",
    "sns.boxplot(x=\"tip\",y=\"day\",data=amin)"
   ]
  },
  {
   "cell_type": "code",
   "execution_count": 7,
   "id": "457ea0a5",
   "metadata": {},
   "outputs": [
    {
     "data": {
      "text/plain": [
       "<AxesSubplot:xlabel='day', ylabel='tip'>"
      ]
     },
     "execution_count": 7,
     "metadata": {},
     "output_type": "execute_result"
    },
    {
     "data": {
      "image/png": "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\n",
      "text/plain": [
       "<Figure size 432x288 with 1 Axes>"
      ]
     },
     "metadata": {},
     "output_type": "display_data"
    }
   ],
   "source": [
    "import seaborn as sns\n",
    "sns.set(style=\"whitegrid\")\n",
    "amin=sns.load_dataset(\"tips\")\n",
    "sns.boxplot(y=\"tip\",x=\"day\",data=amin)"
   ]
  },
  {
   "cell_type": "code",
   "execution_count": 8,
   "id": "5abbf430",
   "metadata": {},
   "outputs": [
    {
     "data": {
      "text/plain": [
       "<AxesSubplot:xlabel='day', ylabel='tip'>"
      ]
     },
     "execution_count": 8,
     "metadata": {},
     "output_type": "execute_result"
    },
    {
     "data": {
      "image/png": "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\n",
      "text/plain": [
       "<Figure size 432x288 with 1 Axes>"
      ]
     },
     "metadata": {},
     "output_type": "display_data"
    }
   ],
   "source": [
    "import seaborn as sns\n",
    "sns.set(style=\"whitegrid\")\n",
    "amin=sns.load_dataset(\"tips\")\n",
    "sns.boxplot(y=\"tip\",x=\"day\",hue=\"smoker\",data=amin)"
   ]
  },
  {
   "cell_type": "code",
   "execution_count": 10,
   "id": "9492dd44",
   "metadata": {},
   "outputs": [
    {
     "data": {
      "text/plain": [
       "<AxesSubplot:xlabel='day', ylabel='tip'>"
      ]
     },
     "execution_count": 10,
     "metadata": {},
     "output_type": "execute_result"
    },
    {
     "data": {
      "image/png": "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\n",
      "text/plain": [
       "<Figure size 432x288 with 1 Axes>"
      ]
     },
     "metadata": {},
     "output_type": "display_data"
    }
   ],
   "source": [
    "import seaborn as sns\n",
    "sns.set(style=\"whitegrid\")\n",
    "amin=sns.load_dataset(\"tips\")\n",
    "sns.boxplot(y=\"tip\",x=\"day\",hue=\"smoker\",data=amin,palette=\"Set2\",dodge=True)"
   ]
  },
  {
   "cell_type": "code",
   "execution_count": 11,
   "id": "fb1316e1",
   "metadata": {},
   "outputs": [
    {
     "data": {
      "text/plain": [
       "<AxesSubplot:xlabel='day', ylabel='tip'>"
      ]
     },
     "execution_count": 11,
     "metadata": {},
     "output_type": "execute_result"
    },
    {
     "data": {
      "image/png": "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\n",
      "text/plain": [
       "<Figure size 432x288 with 1 Axes>"
      ]
     },
     "metadata": {},
     "output_type": "display_data"
    }
   ],
   "source": [
    "import seaborn as sns\n",
    "sns.set(style=\"whitegrid\")\n",
    "amin=sns.load_dataset(\"tips\")\n",
    "sns.boxplot(y=\"tip\",x=\"day\",hue=\"smoker\",data=amin,palette=\"Set2\")"
   ]
  },
  {
   "cell_type": "code",
   "execution_count": 12,
   "id": "2eb87762",
   "metadata": {},
   "outputs": [
    {
     "data": {
      "text/plain": [
       "<AxesSubplot:xlabel='day', ylabel='tip'>"
      ]
     },
     "execution_count": 12,
     "metadata": {},
     "output_type": "execute_result"
    },
    {
     "data": {
      "image/png": "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\n",
      "text/plain": [
       "<Figure size 432x288 with 1 Axes>"
      ]
     },
     "metadata": {},
     "output_type": "display_data"
    }
   ],
   "source": [
    "import seaborn as sns\n",
    "sns.set(style=\"whitegrid\")\n",
    "amin=sns.load_dataset(\"tips\")\n",
    "sns.boxplot(y=\"tip\",x=\"day\",hue=\"smoker\",data=amin,palette=\"Set2\",dodge=False)"
   ]
  },
  {
   "cell_type": "code",
   "execution_count": 13,
   "id": "ce1f6bde",
   "metadata": {},
   "outputs": [
    {
     "data": {
      "text/plain": [
       "<AxesSubplot:xlabel='day', ylabel='tip'>"
      ]
     },
     "execution_count": 13,
     "metadata": {},
     "output_type": "execute_result"
    },
    {
     "data": {
      "image/png": "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\n",
      "text/plain": [
       "<Figure size 432x288 with 1 Axes>"
      ]
     },
     "metadata": {},
     "output_type": "display_data"
    }
   ],
   "source": [
    "import seaborn as sns\n",
    "sns.set(style=\"whitegrid\")\n",
    "amin=sns.load_dataset(\"tips\")\n",
    "sns.boxplot(y=\"tip\",x=\"day\",data=amin,color=\"red\")"
   ]
  },
  {
   "cell_type": "code",
   "execution_count": 3,
   "id": "c23bd4f5",
   "metadata": {},
   "outputs": [
    {
     "data": {
      "text/html": [
       "<div>\n",
       "<style scoped>\n",
       "    .dataframe tbody tr th:only-of-type {\n",
       "        vertical-align: middle;\n",
       "    }\n",
       "\n",
       "    .dataframe tbody tr th {\n",
       "        vertical-align: top;\n",
       "    }\n",
       "\n",
       "    .dataframe thead th {\n",
       "        text-align: right;\n",
       "    }\n",
       "</style>\n",
       "<table border=\"1\" class=\"dataframe\">\n",
       "  <thead>\n",
       "    <tr style=\"text-align: right;\">\n",
       "      <th></th>\n",
       "      <th>survived</th>\n",
       "      <th>pclass</th>\n",
       "      <th>sex</th>\n",
       "      <th>age</th>\n",
       "      <th>sibsp</th>\n",
       "      <th>parch</th>\n",
       "      <th>fare</th>\n",
       "      <th>embarked</th>\n",
       "      <th>class</th>\n",
       "      <th>who</th>\n",
       "      <th>adult_male</th>\n",
       "      <th>deck</th>\n",
       "      <th>embark_town</th>\n",
       "      <th>alive</th>\n",
       "      <th>alone</th>\n",
       "    </tr>\n",
       "  </thead>\n",
       "  <tbody>\n",
       "    <tr>\n",
       "      <th>0</th>\n",
       "      <td>0</td>\n",
       "      <td>3</td>\n",
       "      <td>male</td>\n",
       "      <td>22.0</td>\n",
       "      <td>1</td>\n",
       "      <td>0</td>\n",
       "      <td>7.2500</td>\n",
       "      <td>S</td>\n",
       "      <td>Third</td>\n",
       "      <td>man</td>\n",
       "      <td>True</td>\n",
       "      <td>NaN</td>\n",
       "      <td>Southampton</td>\n",
       "      <td>no</td>\n",
       "      <td>False</td>\n",
       "    </tr>\n",
       "    <tr>\n",
       "      <th>1</th>\n",
       "      <td>1</td>\n",
       "      <td>1</td>\n",
       "      <td>female</td>\n",
       "      <td>38.0</td>\n",
       "      <td>1</td>\n",
       "      <td>0</td>\n",
       "      <td>71.2833</td>\n",
       "      <td>C</td>\n",
       "      <td>First</td>\n",
       "      <td>woman</td>\n",
       "      <td>False</td>\n",
       "      <td>C</td>\n",
       "      <td>Cherbourg</td>\n",
       "      <td>yes</td>\n",
       "      <td>False</td>\n",
       "    </tr>\n",
       "    <tr>\n",
       "      <th>2</th>\n",
       "      <td>1</td>\n",
       "      <td>3</td>\n",
       "      <td>female</td>\n",
       "      <td>26.0</td>\n",
       "      <td>0</td>\n",
       "      <td>0</td>\n",
       "      <td>7.9250</td>\n",
       "      <td>S</td>\n",
       "      <td>Third</td>\n",
       "      <td>woman</td>\n",
       "      <td>False</td>\n",
       "      <td>NaN</td>\n",
       "      <td>Southampton</td>\n",
       "      <td>yes</td>\n",
       "      <td>True</td>\n",
       "    </tr>\n",
       "    <tr>\n",
       "      <th>3</th>\n",
       "      <td>1</td>\n",
       "      <td>1</td>\n",
       "      <td>female</td>\n",
       "      <td>35.0</td>\n",
       "      <td>1</td>\n",
       "      <td>0</td>\n",
       "      <td>53.1000</td>\n",
       "      <td>S</td>\n",
       "      <td>First</td>\n",
       "      <td>woman</td>\n",
       "      <td>False</td>\n",
       "      <td>C</td>\n",
       "      <td>Southampton</td>\n",
       "      <td>yes</td>\n",
       "      <td>False</td>\n",
       "    </tr>\n",
       "    <tr>\n",
       "      <th>4</th>\n",
       "      <td>0</td>\n",
       "      <td>3</td>\n",
       "      <td>male</td>\n",
       "      <td>35.0</td>\n",
       "      <td>0</td>\n",
       "      <td>0</td>\n",
       "      <td>8.0500</td>\n",
       "      <td>S</td>\n",
       "      <td>Third</td>\n",
       "      <td>man</td>\n",
       "      <td>True</td>\n",
       "      <td>NaN</td>\n",
       "      <td>Southampton</td>\n",
       "      <td>no</td>\n",
       "      <td>True</td>\n",
       "    </tr>\n",
       "  </tbody>\n",
       "</table>\n",
       "</div>"
      ],
      "text/plain": [
       "   survived  pclass     sex   age  sibsp  parch     fare embarked  class  \\\n",
       "0         0       3    male  22.0      1      0   7.2500        S  Third   \n",
       "1         1       1  female  38.0      1      0  71.2833        C  First   \n",
       "2         1       3  female  26.0      0      0   7.9250        S  Third   \n",
       "3         1       1  female  35.0      1      0  53.1000        S  First   \n",
       "4         0       3    male  35.0      0      0   8.0500        S  Third   \n",
       "\n",
       "     who  adult_male deck  embark_town alive  alone  \n",
       "0    man        True  NaN  Southampton    no  False  \n",
       "1  woman       False    C    Cherbourg   yes  False  \n",
       "2  woman       False  NaN  Southampton   yes   True  \n",
       "3  woman       False    C  Southampton   yes  False  \n",
       "4    man        True  NaN  Southampton    no   True  "
      ]
     },
     "execution_count": 3,
     "metadata": {},
     "output_type": "execute_result"
    }
   ],
   "source": [
    "import pandas as pd\n",
    "import numpy as np\n",
    "import seaborn as sns\n",
    "boat=sns.load_dataset(\"titanic\")\n",
    "boat.head()"
   ]
  },
  {
   "cell_type": "code",
   "execution_count": 4,
   "id": "a636c4b2",
   "metadata": {},
   "outputs": [
    {
     "data": {
      "text/plain": [
       "<AxesSubplot:xlabel='fare', ylabel='sex'>"
      ]
     },
     "execution_count": 4,
     "metadata": {},
     "output_type": "execute_result"
    },
    {
     "data": {
      "image/png": "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\n",
      "text/plain": [
       "<Figure size 432x288 with 1 Axes>"
      ]
     },
     "metadata": {
      "needs_background": "light"
     },
     "output_type": "display_data"
    }
   ],
   "source": [
    "sns.boxplot(x=\"fare\",y=\"sex\",data=boat)"
   ]
  },
  {
   "cell_type": "code",
   "execution_count": 5,
   "id": "7d40e9de",
   "metadata": {},
   "outputs": [
    {
     "data": {
      "text/plain": [
       "<AxesSubplot:xlabel='sex', ylabel='fare'>"
      ]
     },
     "execution_count": 5,
     "metadata": {},
     "output_type": "execute_result"
    },
    {
     "data": {
      "image/png": "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\n",
      "text/plain": [
       "<Figure size 432x288 with 1 Axes>"
      ]
     },
     "metadata": {
      "needs_background": "light"
     },
     "output_type": "display_data"
    }
   ],
   "source": [
    "sns.boxplot(x=\"sex\",y=\"fare\",data=boat)"
   ]
  },
  {
   "cell_type": "code",
   "execution_count": 15,
   "id": "b9d3eefa",
   "metadata": {},
   "outputs": [
    {
     "data": {
      "text/plain": [
       "<AxesSubplot:xlabel='survived', ylabel='age'>"
      ]
     },
     "execution_count": 15,
     "metadata": {},
     "output_type": "execute_result"
    },
    {
     "data": {
      "image/png": "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\n",
      "text/plain": [
       "<Figure size 432x288 with 1 Axes>"
      ]
     },
     "metadata": {
      "needs_background": "light"
     },
     "output_type": "display_data"
    }
   ],
   "source": [
    "sns.boxplot(x = \"survived\",\n",
    "            y = \"age\",showmeans=True,\n",
    "            \n",
    "            data=boat)"
   ]
  },
  {
   "cell_type": "code",
   "execution_count": null,
   "id": "8ca933f3",
   "metadata": {},
   "outputs": [],
   "source": []
  }
 ],
 "metadata": {
  "kernelspec": {
   "display_name": "Python 3 (ipykernel)",
   "language": "python",
   "name": "python3"
  },
  "language_info": {
   "codemirror_mode": {
    "name": "ipython",
    "version": 3
   },
   "file_extension": ".py",
   "mimetype": "text/x-python",
   "name": "python",
   "nbconvert_exporter": "python",
   "pygments_lexer": "ipython3",
   "version": "3.9.7"
  }
 },
 "nbformat": 4,
 "nbformat_minor": 5
}
My E-Mail Chamin462@gmail.com
